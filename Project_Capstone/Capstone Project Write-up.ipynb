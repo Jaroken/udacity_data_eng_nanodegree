{
 "cells": [
  {
   "cell_type": "markdown",
   "metadata": {
    "editable": true
   },
   "source": [
    "# Project Title\n",
    "### Data Engineering Capstone Project\n",
    "\n",
    "#### Project Summary\n",
    "--describe your project at a high level--\n",
    "\n",
    "The project follows the follow steps:\n",
    "* Step 1: Scope the Project and Gather Data\n",
    "* Step 2: Explore and Assess the Data\n",
    "* Step 3: Define the Data Model\n",
    "* Step 4: Run ETL to Model the Data\n",
    "* Step 5: Complete Project Write Up"
   ]
  },
  {
   "cell_type": "code",
   "execution_count": 1,
   "metadata": {
    "editable": true
   },
   "outputs": [],
   "source": [
    "# Do all imports and installs here\n",
    "import pandas as pd\n",
    "import numpy as np\n",
    "from glob import glob"
   ]
  },
  {
   "cell_type": "code",
   "execution_count": 2,
   "metadata": {
    "editable": true
   },
   "outputs": [],
   "source": [
    "from pyspark.sql import SparkSession\n",
    "\n",
    "spark = SparkSession.builder.\\\n",
    "config(\"spark.jars.repositories\", \"https://repos.spark-packages.org/\").\\\n",
    "config(\"spark.jars.packages\", \"saurfang:spark-sas7bdat:2.0.0-s_2.11\").\\\n",
    "enableHiveSupport().getOrCreate()"
   ]
  },
  {
   "cell_type": "markdown",
   "metadata": {
    "editable": true
   },
   "source": [
    "## Step 1: Scope the Project and Gather Data\n",
    "\n",
    "### Scope \n",
    "<i>Explain what you plan to do in the project in more detail. What data do you use? What is your end solution look like? What tools did you use? etc></i>\n",
    "\n",
    "In this project I plan to use the udacity provided datasets to build a data warehouse of cleaned and processed data that can be used by a hypothetical analytics team.\n",
    "\n",
    "The <b>data</b> I will use comes from the udacity provided datasets. This includes: \n",
    "- I94 Immigration Data: This data is from the US National Tourisim and Trade Office. A data dictionary is provided in the workspace (I94_SAS_Labels_Descriptions.SAS)\n",
    "- Airport codes: This includes airport codes of corresponding cities.\n",
    "- Temperature Data: A Kaggle provided dataset: https://public.opendatasoft.com/explore/dataset/us-cities-demographics/export/\n",
    "- Demographic Data: An OpenSoft provided dataset: https://public.opendatasoft.com/explore/dataset/us-cities-demographics/export/\n",
    "\n",
    "My <b>End Solution</b> will be a clean database that is cleans and processed the datasets mentioned above into a format that is useful for an analytics team. I plan to build a star schema database.  \n",
    "\n",
    "The <b>tools</b> I plan to use are:\n",
    "- Amazon redshift database: for storing the cleaned tables\n",
    "- s3: for storing the raw and staging tables\n",
    "\n",
    "\n",
    "### Describe and Gather Data \n",
    "<i>Describe the data sets you're using. Where did it come from? What type of information is included? </i>\n",
    "\n",
    "The <b>data</b> I am using for this project are the udacity provided  \n",
    "\n",
    "\n",
    "#### I94 Immigration Data: \n",
    "##### where does it come from?\n",
    "This data is from the US National Tourisim and Trade Office. This dataset is from here: https://www.trade.gov/national-travel-and-tourism-office\n",
    "##### What type of information is included?\n",
    "In this dataset are statistics on visitor arrival information from 2016.  A data dictionary is provided in the workspace (I94_SAS_Labels_Descriptions.SAS) that goes into detail on the variables provided."
   ]
  },
  {
   "cell_type": "markdown",
   "metadata": {
    "editable": true
   },
   "source": [
    "#### Airport codes: \n",
    "\n",
    "##### where does it come from? \n",
    "This data comes from here: https://datahub.io/core/airport-codes#data\n",
    "\n",
    "##### What type of information is included?\n",
    "This includes airport codes of corresponding cities. \n",
    "\n"
   ]
  },
  {
   "cell_type": "markdown",
   "metadata": {
    "editable": true
   },
   "source": [
    "#### Temperature Data: \n",
    "##### where does it come from?\n",
    "A Kaggle provided dataset: https://public.opendatasoft.com/explore/dataset/us-cities-demographics/export/\n",
    "##### What type of information is included?\n",
    "This dataset includes daily average temperatures by city going as far back as 1744. Data from 2016 will likely only be relevant.\n",
    "\n"
   ]
  },
  {
   "cell_type": "markdown",
   "metadata": {
    "editable": true
   },
   "source": [
    "#### Demographic Data: \n",
    "##### where does it come from?\n",
    "An OpenSoft provided dataset. This data comes from here: https://public.opendatasoft.com/explore/dataset/us-cities-demographics/export/\n",
    "##### What type of information is included?\n",
    "This dataset contains information about the demographics of all US cities and census-designated places with a population greater or equal to 65,000."
   ]
  },
  {
   "cell_type": "markdown",
   "metadata": {
    "editable": true
   },
   "source": [
    "### Step 2: Explore and Assess the Data\n",
    "#### Explore the Data \n",
    "Identify data quality issues, like missing values, duplicate data, etc.\n"
   ]
  },
  {
   "cell_type": "markdown",
   "metadata": {
    "editable": true
   },
   "source": [
    "##### immigration data"
   ]
  },
  {
   "cell_type": "code",
   "execution_count": 3,
   "metadata": {
    "editable": true
   },
   "outputs": [],
   "source": [
    "# immigration data\n",
    "fname = '../../data/18-83510-I94-Data-2016/i94_apr16_sub.sas7bdat'\n",
    "df_immig = spark.read.format(\"com.github.saurfang.sas.spark\").load(fname)"
   ]
  },
  {
   "cell_type": "code",
   "execution_count": 4,
   "metadata": {
    "editable": true
   },
   "outputs": [
    {
     "data": {
      "text/plain": [
       "Index(['cicid', 'i94yr', 'i94mon', 'i94cit', 'i94res', 'i94port', 'arrdate',\n",
       "       'i94mode', 'i94addr', 'depdate', 'i94bir', 'i94visa', 'count',\n",
       "       'dtadfile', 'visapost', 'occup', 'entdepa', 'entdepd', 'entdepu',\n",
       "       'matflag', 'biryear', 'dtaddto', 'gender', 'insnum', 'airline',\n",
       "       'admnum', 'fltno', 'visatype'],\n",
       "      dtype='object')"
      ]
     },
     "execution_count": 4,
     "metadata": {},
     "output_type": "execute_result"
    }
   ],
   "source": [
    "df_immig.limit(10).toPandas().columns"
   ]
  },
  {
   "cell_type": "code",
   "execution_count": 5,
   "metadata": {
    "editable": true
   },
   "outputs": [
    {
     "data": {
      "text/html": [
       "<div>\n",
       "<style scoped>\n",
       "    .dataframe tbody tr th:only-of-type {\n",
       "        vertical-align: middle;\n",
       "    }\n",
       "\n",
       "    .dataframe tbody tr th {\n",
       "        vertical-align: top;\n",
       "    }\n",
       "\n",
       "    .dataframe thead th {\n",
       "        text-align: right;\n",
       "    }\n",
       "</style>\n",
       "<table border=\"1\" class=\"dataframe\">\n",
       "  <thead>\n",
       "    <tr style=\"text-align: right;\">\n",
       "      <th></th>\n",
       "      <th>cicid</th>\n",
       "      <th>i94yr</th>\n",
       "      <th>i94mon</th>\n",
       "      <th>i94cit</th>\n",
       "      <th>i94res</th>\n",
       "      <th>i94port</th>\n",
       "      <th>arrdate</th>\n",
       "      <th>i94mode</th>\n",
       "      <th>i94addr</th>\n",
       "      <th>depdate</th>\n",
       "      <th>...</th>\n",
       "      <th>entdepu</th>\n",
       "      <th>matflag</th>\n",
       "      <th>biryear</th>\n",
       "      <th>dtaddto</th>\n",
       "      <th>gender</th>\n",
       "      <th>insnum</th>\n",
       "      <th>airline</th>\n",
       "      <th>admnum</th>\n",
       "      <th>fltno</th>\n",
       "      <th>visatype</th>\n",
       "    </tr>\n",
       "  </thead>\n",
       "  <tbody>\n",
       "    <tr>\n",
       "      <th>0</th>\n",
       "      <td>6.0</td>\n",
       "      <td>2016.0</td>\n",
       "      <td>4.0</td>\n",
       "      <td>692.0</td>\n",
       "      <td>692.0</td>\n",
       "      <td>XXX</td>\n",
       "      <td>20573.0</td>\n",
       "      <td>NaN</td>\n",
       "      <td>None</td>\n",
       "      <td>NaN</td>\n",
       "      <td>...</td>\n",
       "      <td>U</td>\n",
       "      <td>None</td>\n",
       "      <td>1979.0</td>\n",
       "      <td>10282016</td>\n",
       "      <td>None</td>\n",
       "      <td>None</td>\n",
       "      <td>None</td>\n",
       "      <td>1.897628e+09</td>\n",
       "      <td>None</td>\n",
       "      <td>B2</td>\n",
       "    </tr>\n",
       "    <tr>\n",
       "      <th>1</th>\n",
       "      <td>7.0</td>\n",
       "      <td>2016.0</td>\n",
       "      <td>4.0</td>\n",
       "      <td>254.0</td>\n",
       "      <td>276.0</td>\n",
       "      <td>ATL</td>\n",
       "      <td>20551.0</td>\n",
       "      <td>1.0</td>\n",
       "      <td>AL</td>\n",
       "      <td>NaN</td>\n",
       "      <td>...</td>\n",
       "      <td>Y</td>\n",
       "      <td>None</td>\n",
       "      <td>1991.0</td>\n",
       "      <td>D/S</td>\n",
       "      <td>M</td>\n",
       "      <td>None</td>\n",
       "      <td>None</td>\n",
       "      <td>3.736796e+09</td>\n",
       "      <td>00296</td>\n",
       "      <td>F1</td>\n",
       "    </tr>\n",
       "    <tr>\n",
       "      <th>2</th>\n",
       "      <td>15.0</td>\n",
       "      <td>2016.0</td>\n",
       "      <td>4.0</td>\n",
       "      <td>101.0</td>\n",
       "      <td>101.0</td>\n",
       "      <td>WAS</td>\n",
       "      <td>20545.0</td>\n",
       "      <td>1.0</td>\n",
       "      <td>MI</td>\n",
       "      <td>20691.0</td>\n",
       "      <td>...</td>\n",
       "      <td>None</td>\n",
       "      <td>M</td>\n",
       "      <td>1961.0</td>\n",
       "      <td>09302016</td>\n",
       "      <td>M</td>\n",
       "      <td>None</td>\n",
       "      <td>OS</td>\n",
       "      <td>6.666432e+08</td>\n",
       "      <td>93</td>\n",
       "      <td>B2</td>\n",
       "    </tr>\n",
       "    <tr>\n",
       "      <th>3</th>\n",
       "      <td>16.0</td>\n",
       "      <td>2016.0</td>\n",
       "      <td>4.0</td>\n",
       "      <td>101.0</td>\n",
       "      <td>101.0</td>\n",
       "      <td>NYC</td>\n",
       "      <td>20545.0</td>\n",
       "      <td>1.0</td>\n",
       "      <td>MA</td>\n",
       "      <td>20567.0</td>\n",
       "      <td>...</td>\n",
       "      <td>None</td>\n",
       "      <td>M</td>\n",
       "      <td>1988.0</td>\n",
       "      <td>09302016</td>\n",
       "      <td>None</td>\n",
       "      <td>None</td>\n",
       "      <td>AA</td>\n",
       "      <td>9.246846e+10</td>\n",
       "      <td>00199</td>\n",
       "      <td>B2</td>\n",
       "    </tr>\n",
       "    <tr>\n",
       "      <th>4</th>\n",
       "      <td>17.0</td>\n",
       "      <td>2016.0</td>\n",
       "      <td>4.0</td>\n",
       "      <td>101.0</td>\n",
       "      <td>101.0</td>\n",
       "      <td>NYC</td>\n",
       "      <td>20545.0</td>\n",
       "      <td>1.0</td>\n",
       "      <td>MA</td>\n",
       "      <td>20567.0</td>\n",
       "      <td>...</td>\n",
       "      <td>None</td>\n",
       "      <td>M</td>\n",
       "      <td>2012.0</td>\n",
       "      <td>09302016</td>\n",
       "      <td>None</td>\n",
       "      <td>None</td>\n",
       "      <td>AA</td>\n",
       "      <td>9.246846e+10</td>\n",
       "      <td>00199</td>\n",
       "      <td>B2</td>\n",
       "    </tr>\n",
       "    <tr>\n",
       "      <th>5</th>\n",
       "      <td>18.0</td>\n",
       "      <td>2016.0</td>\n",
       "      <td>4.0</td>\n",
       "      <td>101.0</td>\n",
       "      <td>101.0</td>\n",
       "      <td>NYC</td>\n",
       "      <td>20545.0</td>\n",
       "      <td>1.0</td>\n",
       "      <td>MI</td>\n",
       "      <td>20555.0</td>\n",
       "      <td>...</td>\n",
       "      <td>None</td>\n",
       "      <td>M</td>\n",
       "      <td>1959.0</td>\n",
       "      <td>09302016</td>\n",
       "      <td>None</td>\n",
       "      <td>None</td>\n",
       "      <td>AZ</td>\n",
       "      <td>9.247104e+10</td>\n",
       "      <td>00602</td>\n",
       "      <td>B1</td>\n",
       "    </tr>\n",
       "    <tr>\n",
       "      <th>6</th>\n",
       "      <td>19.0</td>\n",
       "      <td>2016.0</td>\n",
       "      <td>4.0</td>\n",
       "      <td>101.0</td>\n",
       "      <td>101.0</td>\n",
       "      <td>NYC</td>\n",
       "      <td>20545.0</td>\n",
       "      <td>1.0</td>\n",
       "      <td>NJ</td>\n",
       "      <td>20558.0</td>\n",
       "      <td>...</td>\n",
       "      <td>None</td>\n",
       "      <td>M</td>\n",
       "      <td>1953.0</td>\n",
       "      <td>09302016</td>\n",
       "      <td>None</td>\n",
       "      <td>None</td>\n",
       "      <td>AZ</td>\n",
       "      <td>9.247140e+10</td>\n",
       "      <td>00602</td>\n",
       "      <td>B2</td>\n",
       "    </tr>\n",
       "    <tr>\n",
       "      <th>7</th>\n",
       "      <td>20.0</td>\n",
       "      <td>2016.0</td>\n",
       "      <td>4.0</td>\n",
       "      <td>101.0</td>\n",
       "      <td>101.0</td>\n",
       "      <td>NYC</td>\n",
       "      <td>20545.0</td>\n",
       "      <td>1.0</td>\n",
       "      <td>NJ</td>\n",
       "      <td>20558.0</td>\n",
       "      <td>...</td>\n",
       "      <td>None</td>\n",
       "      <td>M</td>\n",
       "      <td>1959.0</td>\n",
       "      <td>09302016</td>\n",
       "      <td>None</td>\n",
       "      <td>None</td>\n",
       "      <td>AZ</td>\n",
       "      <td>9.247161e+10</td>\n",
       "      <td>00602</td>\n",
       "      <td>B2</td>\n",
       "    </tr>\n",
       "    <tr>\n",
       "      <th>8</th>\n",
       "      <td>21.0</td>\n",
       "      <td>2016.0</td>\n",
       "      <td>4.0</td>\n",
       "      <td>101.0</td>\n",
       "      <td>101.0</td>\n",
       "      <td>NYC</td>\n",
       "      <td>20545.0</td>\n",
       "      <td>1.0</td>\n",
       "      <td>NY</td>\n",
       "      <td>20553.0</td>\n",
       "      <td>...</td>\n",
       "      <td>None</td>\n",
       "      <td>M</td>\n",
       "      <td>1970.0</td>\n",
       "      <td>09302016</td>\n",
       "      <td>None</td>\n",
       "      <td>None</td>\n",
       "      <td>AZ</td>\n",
       "      <td>9.247080e+10</td>\n",
       "      <td>00602</td>\n",
       "      <td>B2</td>\n",
       "    </tr>\n",
       "    <tr>\n",
       "      <th>9</th>\n",
       "      <td>22.0</td>\n",
       "      <td>2016.0</td>\n",
       "      <td>4.0</td>\n",
       "      <td>101.0</td>\n",
       "      <td>101.0</td>\n",
       "      <td>NYC</td>\n",
       "      <td>20545.0</td>\n",
       "      <td>1.0</td>\n",
       "      <td>NY</td>\n",
       "      <td>20562.0</td>\n",
       "      <td>...</td>\n",
       "      <td>None</td>\n",
       "      <td>M</td>\n",
       "      <td>1968.0</td>\n",
       "      <td>09302016</td>\n",
       "      <td>None</td>\n",
       "      <td>None</td>\n",
       "      <td>AZ</td>\n",
       "      <td>9.247849e+10</td>\n",
       "      <td>00608</td>\n",
       "      <td>B1</td>\n",
       "    </tr>\n",
       "  </tbody>\n",
       "</table>\n",
       "<p>10 rows × 28 columns</p>\n",
       "</div>"
      ],
      "text/plain": [
       "   cicid   i94yr  i94mon  i94cit  i94res i94port  arrdate  i94mode i94addr  \\\n",
       "0    6.0  2016.0     4.0   692.0   692.0     XXX  20573.0      NaN    None   \n",
       "1    7.0  2016.0     4.0   254.0   276.0     ATL  20551.0      1.0      AL   \n",
       "2   15.0  2016.0     4.0   101.0   101.0     WAS  20545.0      1.0      MI   \n",
       "3   16.0  2016.0     4.0   101.0   101.0     NYC  20545.0      1.0      MA   \n",
       "4   17.0  2016.0     4.0   101.0   101.0     NYC  20545.0      1.0      MA   \n",
       "5   18.0  2016.0     4.0   101.0   101.0     NYC  20545.0      1.0      MI   \n",
       "6   19.0  2016.0     4.0   101.0   101.0     NYC  20545.0      1.0      NJ   \n",
       "7   20.0  2016.0     4.0   101.0   101.0     NYC  20545.0      1.0      NJ   \n",
       "8   21.0  2016.0     4.0   101.0   101.0     NYC  20545.0      1.0      NY   \n",
       "9   22.0  2016.0     4.0   101.0   101.0     NYC  20545.0      1.0      NY   \n",
       "\n",
       "   depdate   ...     entdepu  matflag  biryear   dtaddto gender insnum  \\\n",
       "0      NaN   ...           U     None   1979.0  10282016   None   None   \n",
       "1      NaN   ...           Y     None   1991.0       D/S      M   None   \n",
       "2  20691.0   ...        None        M   1961.0  09302016      M   None   \n",
       "3  20567.0   ...        None        M   1988.0  09302016   None   None   \n",
       "4  20567.0   ...        None        M   2012.0  09302016   None   None   \n",
       "5  20555.0   ...        None        M   1959.0  09302016   None   None   \n",
       "6  20558.0   ...        None        M   1953.0  09302016   None   None   \n",
       "7  20558.0   ...        None        M   1959.0  09302016   None   None   \n",
       "8  20553.0   ...        None        M   1970.0  09302016   None   None   \n",
       "9  20562.0   ...        None        M   1968.0  09302016   None   None   \n",
       "\n",
       "  airline        admnum  fltno visatype  \n",
       "0    None  1.897628e+09   None       B2  \n",
       "1    None  3.736796e+09  00296       F1  \n",
       "2      OS  6.666432e+08     93       B2  \n",
       "3      AA  9.246846e+10  00199       B2  \n",
       "4      AA  9.246846e+10  00199       B2  \n",
       "5      AZ  9.247104e+10  00602       B1  \n",
       "6      AZ  9.247140e+10  00602       B2  \n",
       "7      AZ  9.247161e+10  00602       B2  \n",
       "8      AZ  9.247080e+10  00602       B2  \n",
       "9      AZ  9.247849e+10  00608       B1  \n",
       "\n",
       "[10 rows x 28 columns]"
      ]
     },
     "execution_count": 5,
     "metadata": {},
     "output_type": "execute_result"
    }
   ],
   "source": [
    "df_immig.limit(10).toPandas()"
   ]
  },
  {
   "cell_type": "markdown",
   "metadata": {
    "editable": true
   },
   "source": [
    "The immigration data does not appear to have any duplicated rows. No cleaning for duplicates will be necessary."
   ]
  },
  {
   "cell_type": "code",
   "execution_count": 6,
   "metadata": {
    "editable": true
   },
   "outputs": [
    {
     "name": "stdout",
     "output_type": "stream",
     "text": [
      "Number of rows: 3096313\n",
      "Number of rows without duplicates: 3096313\n",
      "Number of duplicates: 0\n"
     ]
    }
   ],
   "source": [
    "print('Number of rows: {}'.format(df_immig.count()))\n",
    "print('Number of rows without duplicates: {}'.format(df_immig.drop_duplicates().count()))\n",
    "print('Number of duplicates: {}'.format(df_immig.count()-df_immig.drop_duplicates().count()))"
   ]
  },
  {
   "cell_type": "markdown",
   "metadata": {
    "editable": true
   },
   "source": [
    "There does appear to be some missing values, especially visapost, occup, entdepu, isnum. Important identifying columns like port, arrdate are without missing values. "
   ]
  },
  {
   "cell_type": "code",
   "execution_count": 7,
   "metadata": {
    "editable": true
   },
   "outputs": [
    {
     "name": "stdout",
     "output_type": "stream",
     "text": [
      "+-----+-----+------+------+------+-------+-------+-------+-------+-------+------+-------+-----+--------+--------+-------+-------+-------+-------+-------+-------+-------+------+-------+-------+------+-----+--------+\n",
      "|cicid|i94yr|i94mon|i94cit|i94res|i94port|arrdate|i94mode|i94addr|depdate|i94bir|i94visa|count|dtadfile|visapost|  occup|entdepa|entdepd|entdepu|matflag|biryear|dtaddto|gender| insnum|airline|admnum|fltno|visatype|\n",
      "+-----+-----+------+------+------+-------+-------+-------+-------+-------+------+-------+-----+--------+--------+-------+-------+-------+-------+-------+-------+-------+------+-------+-------+------+-----+--------+\n",
      "|    0|    0|     0|     0|     0|      0|      0|    239| 152592| 142457|   802|      0|    0|       1| 1881250|3088187|    238| 138429|3095921| 138429|    802|    477|414269|2982605|  83627|     0|19549|       0|\n",
      "+-----+-----+------+------+------+-------+-------+-------+-------+-------+------+-------+-----+--------+--------+-------+-------+-------+-------+-------+-------+-------+------+-------+-------+------+-----+--------+\n",
      "\n"
     ]
    }
   ],
   "source": [
    "# attributed to https://stackoverflow.com/questions/44627386/how-to-find-count-of-null-and-nan-values-for-each-column-in-a-pyspark-dataframe\n",
    "from pyspark.sql.functions import isnan, when, count, col\n",
    "df_immig.select([count(when(isnan(c) | col(c).isNull(), c)).alias(c) for c in df_immig.columns]).show()"
   ]
  },
  {
   "cell_type": "markdown",
   "metadata": {
    "editable": true
   },
   "source": [
    "##### Airport data"
   ]
  },
  {
   "cell_type": "code",
   "execution_count": 4,
   "metadata": {
    "editable": true
   },
   "outputs": [
    {
     "data": {
      "text/html": [
       "<div>\n",
       "<style scoped>\n",
       "    .dataframe tbody tr th:only-of-type {\n",
       "        vertical-align: middle;\n",
       "    }\n",
       "\n",
       "    .dataframe tbody tr th {\n",
       "        vertical-align: top;\n",
       "    }\n",
       "\n",
       "    .dataframe thead th {\n",
       "        text-align: right;\n",
       "    }\n",
       "</style>\n",
       "<table border=\"1\" class=\"dataframe\">\n",
       "  <thead>\n",
       "    <tr style=\"text-align: right;\">\n",
       "      <th></th>\n",
       "      <th>ident</th>\n",
       "      <th>type</th>\n",
       "      <th>name</th>\n",
       "      <th>elevation_ft</th>\n",
       "      <th>continent</th>\n",
       "      <th>iso_country</th>\n",
       "      <th>iso_region</th>\n",
       "      <th>municipality</th>\n",
       "      <th>gps_code</th>\n",
       "      <th>iata_code</th>\n",
       "      <th>local_code</th>\n",
       "      <th>coordinates</th>\n",
       "    </tr>\n",
       "  </thead>\n",
       "  <tbody>\n",
       "    <tr>\n",
       "      <th>0</th>\n",
       "      <td>00A</td>\n",
       "      <td>heliport</td>\n",
       "      <td>Total Rf Heliport</td>\n",
       "      <td>11.0</td>\n",
       "      <td>NaN</td>\n",
       "      <td>US</td>\n",
       "      <td>US-PA</td>\n",
       "      <td>Bensalem</td>\n",
       "      <td>00A</td>\n",
       "      <td>NaN</td>\n",
       "      <td>00A</td>\n",
       "      <td>-74.93360137939453, 40.07080078125</td>\n",
       "    </tr>\n",
       "    <tr>\n",
       "      <th>1</th>\n",
       "      <td>00AA</td>\n",
       "      <td>small_airport</td>\n",
       "      <td>Aero B Ranch Airport</td>\n",
       "      <td>3435.0</td>\n",
       "      <td>NaN</td>\n",
       "      <td>US</td>\n",
       "      <td>US-KS</td>\n",
       "      <td>Leoti</td>\n",
       "      <td>00AA</td>\n",
       "      <td>NaN</td>\n",
       "      <td>00AA</td>\n",
       "      <td>-101.473911, 38.704022</td>\n",
       "    </tr>\n",
       "    <tr>\n",
       "      <th>2</th>\n",
       "      <td>00AK</td>\n",
       "      <td>small_airport</td>\n",
       "      <td>Lowell Field</td>\n",
       "      <td>450.0</td>\n",
       "      <td>NaN</td>\n",
       "      <td>US</td>\n",
       "      <td>US-AK</td>\n",
       "      <td>Anchor Point</td>\n",
       "      <td>00AK</td>\n",
       "      <td>NaN</td>\n",
       "      <td>00AK</td>\n",
       "      <td>-151.695999146, 59.94919968</td>\n",
       "    </tr>\n",
       "    <tr>\n",
       "      <th>3</th>\n",
       "      <td>00AL</td>\n",
       "      <td>small_airport</td>\n",
       "      <td>Epps Airpark</td>\n",
       "      <td>820.0</td>\n",
       "      <td>NaN</td>\n",
       "      <td>US</td>\n",
       "      <td>US-AL</td>\n",
       "      <td>Harvest</td>\n",
       "      <td>00AL</td>\n",
       "      <td>NaN</td>\n",
       "      <td>00AL</td>\n",
       "      <td>-86.77030181884766, 34.86479949951172</td>\n",
       "    </tr>\n",
       "    <tr>\n",
       "      <th>4</th>\n",
       "      <td>00AR</td>\n",
       "      <td>closed</td>\n",
       "      <td>Newport Hospital &amp; Clinic Heliport</td>\n",
       "      <td>237.0</td>\n",
       "      <td>NaN</td>\n",
       "      <td>US</td>\n",
       "      <td>US-AR</td>\n",
       "      <td>Newport</td>\n",
       "      <td>NaN</td>\n",
       "      <td>NaN</td>\n",
       "      <td>NaN</td>\n",
       "      <td>-91.254898, 35.6087</td>\n",
       "    </tr>\n",
       "    <tr>\n",
       "      <th>5</th>\n",
       "      <td>00AS</td>\n",
       "      <td>small_airport</td>\n",
       "      <td>Fulton Airport</td>\n",
       "      <td>1100.0</td>\n",
       "      <td>NaN</td>\n",
       "      <td>US</td>\n",
       "      <td>US-OK</td>\n",
       "      <td>Alex</td>\n",
       "      <td>00AS</td>\n",
       "      <td>NaN</td>\n",
       "      <td>00AS</td>\n",
       "      <td>-97.8180194, 34.9428028</td>\n",
       "    </tr>\n",
       "    <tr>\n",
       "      <th>6</th>\n",
       "      <td>00AZ</td>\n",
       "      <td>small_airport</td>\n",
       "      <td>Cordes Airport</td>\n",
       "      <td>3810.0</td>\n",
       "      <td>NaN</td>\n",
       "      <td>US</td>\n",
       "      <td>US-AZ</td>\n",
       "      <td>Cordes</td>\n",
       "      <td>00AZ</td>\n",
       "      <td>NaN</td>\n",
       "      <td>00AZ</td>\n",
       "      <td>-112.16500091552734, 34.305599212646484</td>\n",
       "    </tr>\n",
       "    <tr>\n",
       "      <th>7</th>\n",
       "      <td>00CA</td>\n",
       "      <td>small_airport</td>\n",
       "      <td>Goldstone /Gts/ Airport</td>\n",
       "      <td>3038.0</td>\n",
       "      <td>NaN</td>\n",
       "      <td>US</td>\n",
       "      <td>US-CA</td>\n",
       "      <td>Barstow</td>\n",
       "      <td>00CA</td>\n",
       "      <td>NaN</td>\n",
       "      <td>00CA</td>\n",
       "      <td>-116.888000488, 35.350498199499995</td>\n",
       "    </tr>\n",
       "    <tr>\n",
       "      <th>8</th>\n",
       "      <td>00CL</td>\n",
       "      <td>small_airport</td>\n",
       "      <td>Williams Ag Airport</td>\n",
       "      <td>87.0</td>\n",
       "      <td>NaN</td>\n",
       "      <td>US</td>\n",
       "      <td>US-CA</td>\n",
       "      <td>Biggs</td>\n",
       "      <td>00CL</td>\n",
       "      <td>NaN</td>\n",
       "      <td>00CL</td>\n",
       "      <td>-121.763427, 39.427188</td>\n",
       "    </tr>\n",
       "    <tr>\n",
       "      <th>9</th>\n",
       "      <td>00CN</td>\n",
       "      <td>heliport</td>\n",
       "      <td>Kitchen Creek Helibase Heliport</td>\n",
       "      <td>3350.0</td>\n",
       "      <td>NaN</td>\n",
       "      <td>US</td>\n",
       "      <td>US-CA</td>\n",
       "      <td>Pine Valley</td>\n",
       "      <td>00CN</td>\n",
       "      <td>NaN</td>\n",
       "      <td>00CN</td>\n",
       "      <td>-116.4597417, 32.7273736</td>\n",
       "    </tr>\n",
       "  </tbody>\n",
       "</table>\n",
       "</div>"
      ],
      "text/plain": [
       "  ident           type                                name  elevation_ft  \\\n",
       "0   00A       heliport                   Total Rf Heliport          11.0   \n",
       "1  00AA  small_airport                Aero B Ranch Airport        3435.0   \n",
       "2  00AK  small_airport                        Lowell Field         450.0   \n",
       "3  00AL  small_airport                        Epps Airpark         820.0   \n",
       "4  00AR         closed  Newport Hospital & Clinic Heliport         237.0   \n",
       "5  00AS  small_airport                      Fulton Airport        1100.0   \n",
       "6  00AZ  small_airport                      Cordes Airport        3810.0   \n",
       "7  00CA  small_airport             Goldstone /Gts/ Airport        3038.0   \n",
       "8  00CL  small_airport                 Williams Ag Airport          87.0   \n",
       "9  00CN       heliport     Kitchen Creek Helibase Heliport        3350.0   \n",
       "\n",
       "  continent iso_country iso_region  municipality gps_code iata_code  \\\n",
       "0       NaN          US      US-PA      Bensalem      00A       NaN   \n",
       "1       NaN          US      US-KS         Leoti     00AA       NaN   \n",
       "2       NaN          US      US-AK  Anchor Point     00AK       NaN   \n",
       "3       NaN          US      US-AL       Harvest     00AL       NaN   \n",
       "4       NaN          US      US-AR       Newport      NaN       NaN   \n",
       "5       NaN          US      US-OK          Alex     00AS       NaN   \n",
       "6       NaN          US      US-AZ        Cordes     00AZ       NaN   \n",
       "7       NaN          US      US-CA       Barstow     00CA       NaN   \n",
       "8       NaN          US      US-CA         Biggs     00CL       NaN   \n",
       "9       NaN          US      US-CA   Pine Valley     00CN       NaN   \n",
       "\n",
       "  local_code                              coordinates  \n",
       "0        00A       -74.93360137939453, 40.07080078125  \n",
       "1       00AA                   -101.473911, 38.704022  \n",
       "2       00AK              -151.695999146, 59.94919968  \n",
       "3       00AL    -86.77030181884766, 34.86479949951172  \n",
       "4        NaN                      -91.254898, 35.6087  \n",
       "5       00AS                  -97.8180194, 34.9428028  \n",
       "6       00AZ  -112.16500091552734, 34.305599212646484  \n",
       "7       00CA       -116.888000488, 35.350498199499995  \n",
       "8       00CL                   -121.763427, 39.427188  \n",
       "9       00CN                 -116.4597417, 32.7273736  "
      ]
     },
     "execution_count": 4,
     "metadata": {},
     "output_type": "execute_result"
    }
   ],
   "source": [
    "# airport data\n",
    "df_airport = pd.read_csv('airport-codes_csv.csv')\n",
    "df_airport.head(10)"
   ]
  },
  {
   "cell_type": "markdown",
   "metadata": {
    "editable": true
   },
   "source": [
    "The airport data has lots of missing values for elevation_ft, continent, iso_country, iso_region, municipality, gps_code, iata_code and local_code. However, ident, type, name and coordinates has 0 missing values and these are the most important columns in my opinion. I will remove all, but these 4 columns for this project."
   ]
  },
  {
   "cell_type": "code",
   "execution_count": 9,
   "metadata": {
    "editable": true
   },
   "outputs": [
    {
     "data": {
      "text/plain": [
       "ident               0\n",
       "type                0\n",
       "name                0\n",
       "elevation_ft     7006\n",
       "continent       27719\n",
       "iso_country       247\n",
       "iso_region          0\n",
       "municipality     5676\n",
       "gps_code        14045\n",
       "iata_code       45886\n",
       "local_code      26389\n",
       "coordinates         0\n",
       "dtype: int64"
      ]
     },
     "execution_count": 9,
     "metadata": {},
     "output_type": "execute_result"
    }
   ],
   "source": [
    "df_airport.isna().sum()"
   ]
  },
  {
   "cell_type": "markdown",
   "metadata": {
    "editable": true
   },
   "source": [
    "There are 0 duplicate values in the airport dataset"
   ]
  },
  {
   "cell_type": "code",
   "execution_count": 10,
   "metadata": {
    "editable": true
   },
   "outputs": [
    {
     "name": "stdout",
     "output_type": "stream",
     "text": [
      "Number of rows: 55075\n",
      "Number of rows without duplicates: 55075\n",
      "Number of duplicates: 0\n"
     ]
    }
   ],
   "source": [
    "print('Number of rows: {}'.format(len(df_airport)))\n",
    "print('Number of rows without duplicates: {}'.format(len(df_airport.drop_duplicates())))\n",
    "print('Number of duplicates: {}'.format(len(df_airport)-len(df_airport.drop_duplicates())))"
   ]
  },
  {
   "cell_type": "markdown",
   "metadata": {
    "editable": true
   },
   "source": [
    "##### Temperature Data"
   ]
  },
  {
   "cell_type": "code",
   "execution_count": 5,
   "metadata": {
    "editable": true
   },
   "outputs": [],
   "source": [
    "# Temperature Data\n",
    "fname = '../../data2/GlobalLandTemperaturesByCity.csv'\n",
    "df_temp = pd.read_csv(fname)"
   ]
  },
  {
   "cell_type": "code",
   "execution_count": 12,
   "metadata": {
    "editable": true
   },
   "outputs": [
    {
     "data": {
      "text/html": [
       "<div>\n",
       "<style scoped>\n",
       "    .dataframe tbody tr th:only-of-type {\n",
       "        vertical-align: middle;\n",
       "    }\n",
       "\n",
       "    .dataframe tbody tr th {\n",
       "        vertical-align: top;\n",
       "    }\n",
       "\n",
       "    .dataframe thead th {\n",
       "        text-align: right;\n",
       "    }\n",
       "</style>\n",
       "<table border=\"1\" class=\"dataframe\">\n",
       "  <thead>\n",
       "    <tr style=\"text-align: right;\">\n",
       "      <th></th>\n",
       "      <th>dt</th>\n",
       "      <th>AverageTemperature</th>\n",
       "      <th>AverageTemperatureUncertainty</th>\n",
       "      <th>City</th>\n",
       "      <th>Country</th>\n",
       "      <th>Latitude</th>\n",
       "      <th>Longitude</th>\n",
       "    </tr>\n",
       "  </thead>\n",
       "  <tbody>\n",
       "    <tr>\n",
       "      <th>0</th>\n",
       "      <td>1743-11-01</td>\n",
       "      <td>6.068</td>\n",
       "      <td>1.737</td>\n",
       "      <td>Århus</td>\n",
       "      <td>Denmark</td>\n",
       "      <td>57.05N</td>\n",
       "      <td>10.33E</td>\n",
       "    </tr>\n",
       "    <tr>\n",
       "      <th>1</th>\n",
       "      <td>1743-12-01</td>\n",
       "      <td>NaN</td>\n",
       "      <td>NaN</td>\n",
       "      <td>Århus</td>\n",
       "      <td>Denmark</td>\n",
       "      <td>57.05N</td>\n",
       "      <td>10.33E</td>\n",
       "    </tr>\n",
       "    <tr>\n",
       "      <th>2</th>\n",
       "      <td>1744-01-01</td>\n",
       "      <td>NaN</td>\n",
       "      <td>NaN</td>\n",
       "      <td>Århus</td>\n",
       "      <td>Denmark</td>\n",
       "      <td>57.05N</td>\n",
       "      <td>10.33E</td>\n",
       "    </tr>\n",
       "    <tr>\n",
       "      <th>3</th>\n",
       "      <td>1744-02-01</td>\n",
       "      <td>NaN</td>\n",
       "      <td>NaN</td>\n",
       "      <td>Århus</td>\n",
       "      <td>Denmark</td>\n",
       "      <td>57.05N</td>\n",
       "      <td>10.33E</td>\n",
       "    </tr>\n",
       "    <tr>\n",
       "      <th>4</th>\n",
       "      <td>1744-03-01</td>\n",
       "      <td>NaN</td>\n",
       "      <td>NaN</td>\n",
       "      <td>Århus</td>\n",
       "      <td>Denmark</td>\n",
       "      <td>57.05N</td>\n",
       "      <td>10.33E</td>\n",
       "    </tr>\n",
       "    <tr>\n",
       "      <th>5</th>\n",
       "      <td>1744-04-01</td>\n",
       "      <td>5.788</td>\n",
       "      <td>3.624</td>\n",
       "      <td>Århus</td>\n",
       "      <td>Denmark</td>\n",
       "      <td>57.05N</td>\n",
       "      <td>10.33E</td>\n",
       "    </tr>\n",
       "    <tr>\n",
       "      <th>6</th>\n",
       "      <td>1744-05-01</td>\n",
       "      <td>10.644</td>\n",
       "      <td>1.283</td>\n",
       "      <td>Århus</td>\n",
       "      <td>Denmark</td>\n",
       "      <td>57.05N</td>\n",
       "      <td>10.33E</td>\n",
       "    </tr>\n",
       "    <tr>\n",
       "      <th>7</th>\n",
       "      <td>1744-06-01</td>\n",
       "      <td>14.051</td>\n",
       "      <td>1.347</td>\n",
       "      <td>Århus</td>\n",
       "      <td>Denmark</td>\n",
       "      <td>57.05N</td>\n",
       "      <td>10.33E</td>\n",
       "    </tr>\n",
       "    <tr>\n",
       "      <th>8</th>\n",
       "      <td>1744-07-01</td>\n",
       "      <td>16.082</td>\n",
       "      <td>1.396</td>\n",
       "      <td>Århus</td>\n",
       "      <td>Denmark</td>\n",
       "      <td>57.05N</td>\n",
       "      <td>10.33E</td>\n",
       "    </tr>\n",
       "    <tr>\n",
       "      <th>9</th>\n",
       "      <td>1744-08-01</td>\n",
       "      <td>NaN</td>\n",
       "      <td>NaN</td>\n",
       "      <td>Århus</td>\n",
       "      <td>Denmark</td>\n",
       "      <td>57.05N</td>\n",
       "      <td>10.33E</td>\n",
       "    </tr>\n",
       "  </tbody>\n",
       "</table>\n",
       "</div>"
      ],
      "text/plain": [
       "           dt  AverageTemperature  AverageTemperatureUncertainty   City  \\\n",
       "0  1743-11-01               6.068                          1.737  Århus   \n",
       "1  1743-12-01                 NaN                            NaN  Århus   \n",
       "2  1744-01-01                 NaN                            NaN  Århus   \n",
       "3  1744-02-01                 NaN                            NaN  Århus   \n",
       "4  1744-03-01                 NaN                            NaN  Århus   \n",
       "5  1744-04-01               5.788                          3.624  Århus   \n",
       "6  1744-05-01              10.644                          1.283  Århus   \n",
       "7  1744-06-01              14.051                          1.347  Århus   \n",
       "8  1744-07-01              16.082                          1.396  Århus   \n",
       "9  1744-08-01                 NaN                            NaN  Århus   \n",
       "\n",
       "   Country Latitude Longitude  \n",
       "0  Denmark   57.05N    10.33E  \n",
       "1  Denmark   57.05N    10.33E  \n",
       "2  Denmark   57.05N    10.33E  \n",
       "3  Denmark   57.05N    10.33E  \n",
       "4  Denmark   57.05N    10.33E  \n",
       "5  Denmark   57.05N    10.33E  \n",
       "6  Denmark   57.05N    10.33E  \n",
       "7  Denmark   57.05N    10.33E  \n",
       "8  Denmark   57.05N    10.33E  \n",
       "9  Denmark   57.05N    10.33E  "
      ]
     },
     "execution_count": 12,
     "metadata": {},
     "output_type": "execute_result"
    }
   ],
   "source": [
    "df_temp.head(10)"
   ]
  },
  {
   "cell_type": "markdown",
   "metadata": {
    "editable": true
   },
   "source": [
    "Looking at the full dataset there is a large number of missing values for AverageTemperature and AverageTemperatureUncertainty."
   ]
  },
  {
   "cell_type": "code",
   "execution_count": 13,
   "metadata": {
    "editable": true
   },
   "outputs": [
    {
     "data": {
      "text/plain": [
       "dt                                    0\n",
       "AverageTemperature               364130\n",
       "AverageTemperatureUncertainty    364130\n",
       "City                                  0\n",
       "Country                               0\n",
       "Latitude                              0\n",
       "Longitude                             0\n",
       "dtype: int64"
      ]
     },
     "execution_count": 13,
     "metadata": {},
     "output_type": "execute_result"
    }
   ],
   "source": [
    "df_temp.isna().sum()"
   ]
  },
  {
   "cell_type": "markdown",
   "metadata": {
    "editable": true
   },
   "source": [
    "I will likely only need data from 2016 only to match what I have available from the immigration dataset. Looking here it seems like there is no missing value issue for 2016."
   ]
  },
  {
   "cell_type": "code",
   "execution_count": 14,
   "metadata": {
    "editable": true
   },
   "outputs": [
    {
     "data": {
      "text/plain": [
       "dt                               0\n",
       "AverageTemperature               0\n",
       "AverageTemperatureUncertainty    0\n",
       "City                             0\n",
       "Country                          0\n",
       "Latitude                         0\n",
       "Longitude                        0\n",
       "dtype: int64"
      ]
     },
     "execution_count": 14,
     "metadata": {},
     "output_type": "execute_result"
    }
   ],
   "source": [
    "df_temp[(df_temp.dt>='2016-01-01') & (df_temp.dt<'2017-01-01')].isna().sum()"
   ]
  },
  {
   "cell_type": "markdown",
   "metadata": {
    "editable": true
   },
   "source": [
    "There does not appear to be an issue with duplicate values"
   ]
  },
  {
   "cell_type": "code",
   "execution_count": 15,
   "metadata": {
    "editable": true
   },
   "outputs": [
    {
     "name": "stdout",
     "output_type": "stream",
     "text": [
      "Number of rows: 8599212\n",
      "Number of rows without duplicates: 8599212\n",
      "Number of duplicates: 0\n"
     ]
    }
   ],
   "source": [
    "print('Number of rows: {}'.format(len(df_temp)))\n",
    "print('Number of rows without duplicates: {}'.format(len(df_temp.drop_duplicates())))\n",
    "print('Number of duplicates: {}'.format(len(df_temp)-len(df_temp.drop_duplicates())))"
   ]
  },
  {
   "cell_type": "markdown",
   "metadata": {
    "editable": true
   },
   "source": [
    "##### Demographic Data"
   ]
  },
  {
   "cell_type": "code",
   "execution_count": 6,
   "metadata": {
    "editable": true
   },
   "outputs": [
    {
     "data": {
      "text/html": [
       "<div>\n",
       "<style scoped>\n",
       "    .dataframe tbody tr th:only-of-type {\n",
       "        vertical-align: middle;\n",
       "    }\n",
       "\n",
       "    .dataframe tbody tr th {\n",
       "        vertical-align: top;\n",
       "    }\n",
       "\n",
       "    .dataframe thead th {\n",
       "        text-align: right;\n",
       "    }\n",
       "</style>\n",
       "<table border=\"1\" class=\"dataframe\">\n",
       "  <thead>\n",
       "    <tr style=\"text-align: right;\">\n",
       "      <th></th>\n",
       "      <th>City</th>\n",
       "      <th>State</th>\n",
       "      <th>Median Age</th>\n",
       "      <th>Male Population</th>\n",
       "      <th>Female Population</th>\n",
       "      <th>Total Population</th>\n",
       "      <th>Number of Veterans</th>\n",
       "      <th>Foreign-born</th>\n",
       "      <th>Average Household Size</th>\n",
       "      <th>State Code</th>\n",
       "      <th>Race</th>\n",
       "      <th>Count</th>\n",
       "    </tr>\n",
       "  </thead>\n",
       "  <tbody>\n",
       "    <tr>\n",
       "      <th>0</th>\n",
       "      <td>Silver Spring</td>\n",
       "      <td>Maryland</td>\n",
       "      <td>33.8</td>\n",
       "      <td>40601.0</td>\n",
       "      <td>41862.0</td>\n",
       "      <td>82463</td>\n",
       "      <td>1562.0</td>\n",
       "      <td>30908.0</td>\n",
       "      <td>2.60</td>\n",
       "      <td>MD</td>\n",
       "      <td>Hispanic or Latino</td>\n",
       "      <td>25924</td>\n",
       "    </tr>\n",
       "    <tr>\n",
       "      <th>1</th>\n",
       "      <td>Quincy</td>\n",
       "      <td>Massachusetts</td>\n",
       "      <td>41.0</td>\n",
       "      <td>44129.0</td>\n",
       "      <td>49500.0</td>\n",
       "      <td>93629</td>\n",
       "      <td>4147.0</td>\n",
       "      <td>32935.0</td>\n",
       "      <td>2.39</td>\n",
       "      <td>MA</td>\n",
       "      <td>White</td>\n",
       "      <td>58723</td>\n",
       "    </tr>\n",
       "    <tr>\n",
       "      <th>2</th>\n",
       "      <td>Hoover</td>\n",
       "      <td>Alabama</td>\n",
       "      <td>38.5</td>\n",
       "      <td>38040.0</td>\n",
       "      <td>46799.0</td>\n",
       "      <td>84839</td>\n",
       "      <td>4819.0</td>\n",
       "      <td>8229.0</td>\n",
       "      <td>2.58</td>\n",
       "      <td>AL</td>\n",
       "      <td>Asian</td>\n",
       "      <td>4759</td>\n",
       "    </tr>\n",
       "    <tr>\n",
       "      <th>3</th>\n",
       "      <td>Rancho Cucamonga</td>\n",
       "      <td>California</td>\n",
       "      <td>34.5</td>\n",
       "      <td>88127.0</td>\n",
       "      <td>87105.0</td>\n",
       "      <td>175232</td>\n",
       "      <td>5821.0</td>\n",
       "      <td>33878.0</td>\n",
       "      <td>3.18</td>\n",
       "      <td>CA</td>\n",
       "      <td>Black or African-American</td>\n",
       "      <td>24437</td>\n",
       "    </tr>\n",
       "    <tr>\n",
       "      <th>4</th>\n",
       "      <td>Newark</td>\n",
       "      <td>New Jersey</td>\n",
       "      <td>34.6</td>\n",
       "      <td>138040.0</td>\n",
       "      <td>143873.0</td>\n",
       "      <td>281913</td>\n",
       "      <td>5829.0</td>\n",
       "      <td>86253.0</td>\n",
       "      <td>2.73</td>\n",
       "      <td>NJ</td>\n",
       "      <td>White</td>\n",
       "      <td>76402</td>\n",
       "    </tr>\n",
       "    <tr>\n",
       "      <th>5</th>\n",
       "      <td>Peoria</td>\n",
       "      <td>Illinois</td>\n",
       "      <td>33.1</td>\n",
       "      <td>56229.0</td>\n",
       "      <td>62432.0</td>\n",
       "      <td>118661</td>\n",
       "      <td>6634.0</td>\n",
       "      <td>7517.0</td>\n",
       "      <td>2.40</td>\n",
       "      <td>IL</td>\n",
       "      <td>American Indian and Alaska Native</td>\n",
       "      <td>1343</td>\n",
       "    </tr>\n",
       "    <tr>\n",
       "      <th>6</th>\n",
       "      <td>Avondale</td>\n",
       "      <td>Arizona</td>\n",
       "      <td>29.1</td>\n",
       "      <td>38712.0</td>\n",
       "      <td>41971.0</td>\n",
       "      <td>80683</td>\n",
       "      <td>4815.0</td>\n",
       "      <td>8355.0</td>\n",
       "      <td>3.18</td>\n",
       "      <td>AZ</td>\n",
       "      <td>Black or African-American</td>\n",
       "      <td>11592</td>\n",
       "    </tr>\n",
       "    <tr>\n",
       "      <th>7</th>\n",
       "      <td>West Covina</td>\n",
       "      <td>California</td>\n",
       "      <td>39.8</td>\n",
       "      <td>51629.0</td>\n",
       "      <td>56860.0</td>\n",
       "      <td>108489</td>\n",
       "      <td>3800.0</td>\n",
       "      <td>37038.0</td>\n",
       "      <td>3.56</td>\n",
       "      <td>CA</td>\n",
       "      <td>Asian</td>\n",
       "      <td>32716</td>\n",
       "    </tr>\n",
       "    <tr>\n",
       "      <th>8</th>\n",
       "      <td>O'Fallon</td>\n",
       "      <td>Missouri</td>\n",
       "      <td>36.0</td>\n",
       "      <td>41762.0</td>\n",
       "      <td>43270.0</td>\n",
       "      <td>85032</td>\n",
       "      <td>5783.0</td>\n",
       "      <td>3269.0</td>\n",
       "      <td>2.77</td>\n",
       "      <td>MO</td>\n",
       "      <td>Hispanic or Latino</td>\n",
       "      <td>2583</td>\n",
       "    </tr>\n",
       "    <tr>\n",
       "      <th>9</th>\n",
       "      <td>High Point</td>\n",
       "      <td>North Carolina</td>\n",
       "      <td>35.5</td>\n",
       "      <td>51751.0</td>\n",
       "      <td>58077.0</td>\n",
       "      <td>109828</td>\n",
       "      <td>5204.0</td>\n",
       "      <td>16315.0</td>\n",
       "      <td>2.65</td>\n",
       "      <td>NC</td>\n",
       "      <td>Asian</td>\n",
       "      <td>11060</td>\n",
       "    </tr>\n",
       "  </tbody>\n",
       "</table>\n",
       "</div>"
      ],
      "text/plain": [
       "               City           State  Median Age  Male Population  \\\n",
       "0     Silver Spring        Maryland        33.8          40601.0   \n",
       "1            Quincy   Massachusetts        41.0          44129.0   \n",
       "2            Hoover         Alabama        38.5          38040.0   \n",
       "3  Rancho Cucamonga      California        34.5          88127.0   \n",
       "4            Newark      New Jersey        34.6         138040.0   \n",
       "5            Peoria        Illinois        33.1          56229.0   \n",
       "6          Avondale         Arizona        29.1          38712.0   \n",
       "7       West Covina      California        39.8          51629.0   \n",
       "8          O'Fallon        Missouri        36.0          41762.0   \n",
       "9        High Point  North Carolina        35.5          51751.0   \n",
       "\n",
       "   Female Population  Total Population  Number of Veterans  Foreign-born  \\\n",
       "0            41862.0             82463              1562.0       30908.0   \n",
       "1            49500.0             93629              4147.0       32935.0   \n",
       "2            46799.0             84839              4819.0        8229.0   \n",
       "3            87105.0            175232              5821.0       33878.0   \n",
       "4           143873.0            281913              5829.0       86253.0   \n",
       "5            62432.0            118661              6634.0        7517.0   \n",
       "6            41971.0             80683              4815.0        8355.0   \n",
       "7            56860.0            108489              3800.0       37038.0   \n",
       "8            43270.0             85032              5783.0        3269.0   \n",
       "9            58077.0            109828              5204.0       16315.0   \n",
       "\n",
       "   Average Household Size State Code                               Race  Count  \n",
       "0                    2.60         MD                 Hispanic or Latino  25924  \n",
       "1                    2.39         MA                              White  58723  \n",
       "2                    2.58         AL                              Asian   4759  \n",
       "3                    3.18         CA          Black or African-American  24437  \n",
       "4                    2.73         NJ                              White  76402  \n",
       "5                    2.40         IL  American Indian and Alaska Native   1343  \n",
       "6                    3.18         AZ          Black or African-American  11592  \n",
       "7                    3.56         CA                              Asian  32716  \n",
       "8                    2.77         MO                 Hispanic or Latino   2583  \n",
       "9                    2.65         NC                              Asian  11060  "
      ]
     },
     "execution_count": 6,
     "metadata": {},
     "output_type": "execute_result"
    }
   ],
   "source": [
    "# Demographic Data\n",
    "df_demo = pd.read_csv('us-cities-demographics.csv', sep = ';')\n",
    "df_demo.head(10)"
   ]
  },
  {
   "cell_type": "markdown",
   "metadata": {
    "editable": true
   },
   "source": [
    "Missing data does not appear to be huge consideration for this dataset"
   ]
  },
  {
   "cell_type": "code",
   "execution_count": 17,
   "metadata": {
    "editable": true
   },
   "outputs": [
    {
     "data": {
      "text/plain": [
       "City                       0\n",
       "State                      0\n",
       "Median Age                 0\n",
       "Male Population            3\n",
       "Female Population          3\n",
       "Total Population           0\n",
       "Number of Veterans        13\n",
       "Foreign-born              13\n",
       "Average Household Size    16\n",
       "State Code                 0\n",
       "Race                       0\n",
       "Count                      0\n",
       "dtype: int64"
      ]
     },
     "execution_count": 17,
     "metadata": {},
     "output_type": "execute_result"
    }
   ],
   "source": [
    "df_demo.isna().sum()"
   ]
  },
  {
   "cell_type": "markdown",
   "metadata": {
    "editable": true
   },
   "source": [
    "There does not appear to be any duplicate rows"
   ]
  },
  {
   "cell_type": "code",
   "execution_count": 18,
   "metadata": {
    "editable": true
   },
   "outputs": [
    {
     "name": "stdout",
     "output_type": "stream",
     "text": [
      "Number of rows: 2891\n",
      "Number of rows without duplicates: 2891\n",
      "Number of duplicates: 0\n"
     ]
    }
   ],
   "source": [
    "print('Number of rows: {}'.format(len(df_demo)))\n",
    "print('Number of rows without duplicates: {}'.format(len(df_demo.drop_duplicates())))\n",
    "print('Number of duplicates: {}'.format(len(df_demo)-len(df_demo.drop_duplicates())))"
   ]
  },
  {
   "cell_type": "markdown",
   "metadata": {
    "editable": true
   },
   "source": [
    "#### Cleaning Steps\n",
    "Document steps necessary to clean the data\n",
    "\n",
    "##### Immigration Data\n",
    "- filter columns\n",
    "- rename columns\n",
    "\n",
    "##### Airport Data\n",
    "- Select US only\n",
    "- Choose only small, medium or large airports\n",
    "- Split coordinates to longitude and latitude\n",
    "- Drop local_code values that are null\n",
    "- Extract state_code from iso_region\n",
    "- Select relevant columns\n",
    "\n",
    "##### Temperature Data\n",
    "- Filter out non-US data\n",
    "- Extract year from dt\n",
    "- Extract month from dt\n",
    "- Rename relevant columns\n",
    "- Aggregate data by city and month and year\n",
    "\n",
    "##### Demographic Data \n",
    "- Change all columns to lower case\n",
    "- Set integer columns to integer\n",
    "- replace whitespace and '-' with '_' in the columns to follow convention"
   ]
  },
  {
   "cell_type": "code",
   "execution_count": 7,
   "metadata": {
    "editable": true
   },
   "outputs": [
    {
     "name": "stderr",
     "output_type": "stream",
     "text": [
      "/opt/conda/lib/python3.6/site-packages/ipykernel_launcher.py:44: SettingWithCopyWarning: \n",
      "A value is trying to be set on a copy of a slice from a DataFrame.\n",
      "Try using .loc[row_indexer,col_indexer] = value instead\n",
      "\n",
      "See the caveats in the documentation: http://pandas.pydata.org/pandas-docs/stable/indexing.html#indexing-view-versus-copy\n",
      "/opt/conda/lib/python3.6/site-packages/ipykernel_launcher.py:46: SettingWithCopyWarning: \n",
      "A value is trying to be set on a copy of a slice from a DataFrame.\n",
      "Try using .loc[row_indexer,col_indexer] = value instead\n",
      "\n",
      "See the caveats in the documentation: http://pandas.pydata.org/pandas-docs/stable/indexing.html#indexing-view-versus-copy\n",
      "/opt/conda/lib/python3.6/site-packages/pandas/core/frame.py:3781: SettingWithCopyWarning: \n",
      "A value is trying to be set on a copy of a slice from a DataFrame\n",
      "\n",
      "See the caveats in the documentation: http://pandas.pydata.org/pandas-docs/stable/indexing.html#indexing-view-versus-copy\n",
      "  return super(DataFrame, self).rename(**kwargs)\n"
     ]
    }
   ],
   "source": [
    "# Performing cleaning tasks here\n",
    "\n",
    "##### Immigration data #####\n",
    "\n",
    "# Reduce variables to the variables of interest\n",
    "def clean_immig_data(df_immig):\n",
    "    \"\"\"\n",
    "    cleans the immigration spark dataset and returns a reduced and relabeled dataset.\n",
    "    parameters:\n",
    "    df_immg: spark dataset of the immigration dataset\n",
    "    \"\"\"\n",
    "    immig_fact = df_immig[['cicid', 'i94yr', 'i94mon', 'i94port', 'i94addr', 'arrdate', \n",
    "                                       'i94bir','i94visa', 'i94mode', 'airline']]\n",
    "    # Rename columns \n",
    "    immig_fact = immig_fact.toDF(*['cicid','year', 'month', 'port', 'addr', 'arrival_date',\n",
    "                                      'resp_age', 'visa','mode', 'airline']) \n",
    "    return(immig_fact)\n",
    "\n",
    "# Do not need drop duplicate values and I will not be controlling for missing values in any way\n",
    "\n",
    "##### Airport data #####\n",
    "def clean_airport_data(df_airport):\n",
    "    \"\"\"\n",
    "    cleans the airport dataset and returns a cleaned pandas dataset.\n",
    "    parameters:\n",
    "    df_airport: the pandas dataframe of the airport datasert\n",
    "    \"\"\"\n",
    "    # remove non-US airports\n",
    "    airport_dim = df_airport[df_airport.iso_country == 'US']\n",
    "    # remove irrelevant airports\n",
    "    airport_dim = airport_dim[[i in ['small_airport', 'medium_airport', 'large_airport'] for i in airport_dim.type]] \n",
    "    # Remove the null cases for local_code\n",
    "    airport_dim = airport_dim[airport_dim.local_code.isna()==False] \n",
    "    # split coordinates to longitude and latitude\n",
    "    airport_dim['longitude']=[float(i.split(',')[0]) for i in airport_dim['coordinates']]\n",
    "    airport_dim['latitude']=[float(i.split(',')[1]) for i in airport_dim['coordinates']]\n",
    "    # extract state_code from iso_region\n",
    "    airport_dim['state_code'] = [i.split('-')[1] for i in airport_dim['iso_region']]\n",
    "\n",
    "    # include only the relevant columns I want to include\n",
    "    airport_dim = airport_dim[['type', 'name', 'elevation_ft', 'state_code',\n",
    "                             'iso_country', 'municipality', 'local_code', 'longitude', 'latitude']] \n",
    "    # rename local_code to port to match fact table\n",
    "    airport_dim.rename(columns={'local_code':'port',\n",
    "                               'municipality':'city'}, inplace=True)\n",
    "    return(airport_dim)\n",
    "\n",
    "\n",
    "##### Tempurature data #####\n",
    "def clean_temp_data(df_temp):\n",
    "    \"\"\"\n",
    "    cleaned the temperature dataset and returns a reduced and cleaned dataset.\n",
    "    parameters:\n",
    "    df_temp: pandas dataframe of the temperature data\n",
    "    \"\"\"\n",
    "    # Filter out non-US data\n",
    "    temp_dim = df_temp[df_temp.Country == 'United States'] \n",
    "    # Extract year \n",
    "    temp_dim['year'] = [int(i[:4]) for i in temp_dim.dt] \n",
    "    # Extract month\n",
    "    temp_dim['month'] = [int(i[5:7]) for i in temp_dim.dt]\n",
    "    # Rename relevant columns\n",
    "    temp_dim.rename(columns = {'AverageTemperature':'avg_temp',\n",
    "                             'AverageTemperatureUncertainty':'avg_temp_uncertainty',\n",
    "                             'City':'city'}, inplace = True) \n",
    "    # Aggregate data by city and month and year\n",
    "    temp_dim = temp_dim[temp_dim.year >=2010].groupby(['city','month']).mean().reset_index()[['city','month','avg_temp','avg_temp_uncertainty']]\n",
    "    return(temp_dim)\n",
    "\n",
    "##### Demographic Data #####\n",
    "def clean_demo_data(df_demo):\n",
    "    \"\"\"\n",
    "    cleaning the demo data and exporting a clean pandas dataset.\n",
    "    parameters:\n",
    "    df_demo: pandas dataframe of the demographic data\n",
    "    \"\"\"\n",
    "    demo_dim = df_demo.copy()\n",
    "    # Change all columns to lower case\n",
    "    demo_dim.columns = [i.lower() for i in demo_dim.columns]\n",
    "    # set integer columns to integer\n",
    "    demo_dim['male population']=  [int(i) for i in np.nan_to_num(demo_dim['male population'])]\n",
    "    demo_dim['female population']=  [int(i) for i in np.nan_to_num(demo_dim['female population'])]\n",
    "    demo_dim['total population']= [int(i) for i in np.nan_to_num(demo_dim['total population'])]\n",
    "    demo_dim['number of veterans']= [int(i) for i in np.nan_to_num(demo_dim['number of veterans'])]\n",
    "    demo_dim['foreign-born']=  [int(i) for i in np.nan_to_num(demo_dim['foreign-born'])]\n",
    "    # replace whitespace and '-' with '_'\n",
    "    demo_dim.columns = [i.replace(' ', '_').replace('-','_') for i in demo_dim.columns]\n",
    "    # drop irrelevant columns\n",
    "    demo_dim.drop(columns = 'count', inplace=True)\n",
    "    return(demo_dim)\n",
    "\n",
    "##### City ID Table #####\n",
    "def clean_city_data(aiport_dim, demo_dim, temp_dim):\n",
    "    \"\"\"\n",
    "    ingests the airport, demo, and temp cleaned datasets and extracts the city information and records the unique citys across the three datasets\n",
    "    parameters:\n",
    "    airport_dim: cleaned pandas dataframe of airport data \n",
    "    demo_dim: cleaned pandas dataframe of demo data \n",
    "    temp_dim cleaned pandas dataframe of temp data \n",
    "    \"\"\"\n",
    "    # make a city table\n",
    "    a_list = list(airport_dim.city.unique())\n",
    "    d_list = list(demo_dim.city.unique())\n",
    "    t_list = list(temp_dim.city.unique())\n",
    "    city_list = (set.union(set(t_list), set(d_list), set(a_list)))\n",
    "    city_dim =pd.DataFrame({'city_name':list(city_list)})\n",
    "    return(city_dim)\n",
    "\n",
    "#### Port ID Table #####\n",
    "def clean_port_data(immig_fact, airport_dim):\n",
    "    \"\"\"\n",
    "    ingests the immigration and airport cleaned datasets and extracts the port information and records the unique ports across the two datasets\n",
    "    parameters:\n",
    "    immig_fact: cleaned pyspark dataframe of immigration data\n",
    "    airport_dim: cleaned pandas dataframe of airport data \n",
    "    \"\"\"\n",
    "    imm_dist_port =immig_fact.select('port').distinct().collect()\n",
    "    airport_port = airport_dim[['port']]\n",
    "    portlist = list(set.union(set([i.port for i in imm_dist_port]), set(airport_port)))\n",
    "    port_dim = pd.DataFrame({'port_name':portlist})\n",
    "    return(port_dim)\n",
    "\n",
    "immig_fact = clean_immig_data(df_immig)\n",
    "airport_dim = clean_airport_data(df_airport)\n",
    "temp_dim = clean_temp_data(df_temp)\n",
    "demo_dim = clean_demo_data(df_demo)\n",
    "city_dim = clean_city_data(airport_dim, demo_dim, temp_dim)\n",
    "port_dim = clean_port_data(immig_fact, airport_dim)\n",
    "\n"
   ]
  },
  {
   "cell_type": "code",
   "execution_count": null,
   "metadata": {
    "editable": true
   },
   "outputs": [],
   "source": [
    "immig_fact.write.parquet('immig_fact')\n",
    "temp_dim.to_csv('temp_dim.csv', header=False, index = False, sep=';')\n",
    "demo_dim.to_csv('demo_dim.csv', header=False, index=False, sep=';')\n",
    "city_dim.to_csv('city_dim.csv', header=False, index=False, sep=';')\n",
    "port_dim.to_csv('port_dim.csv', header=False, index=False, sep=';')\n",
    "airport_dim.to_csv('airport_dim.csv', header=False, index=False, sep=';')"
   ]
  },
  {
   "cell_type": "markdown",
   "metadata": {
    "editable": true
   },
   "source": [
    "### Step 3: Define the Data Model\n",
    "#### 3.1 Conceptual Data Model\n",
    "Map out the conceptual data model and explain why you chose that model\n",
    "\n",
    "Below I map out how my staging tables will appear and then how my final analysis tables appear. \n",
    "\n",
    "The biggest change I make from going between staging and analysis table is to:\n",
    "a) make unique int identifiers for city and port\n",
    "b) replace city with city_id and port with port_id in temp, demo, airport and immig tables\n",
    "c) add in city_id to the immig_fact table\n",
    "\n",
    "The most import change I believe i make is to add in the city_id into the immig_fact table. The reasoning for this is to speed up joins between temp, demo, airport with immig fact by using a common id across all tables. I wanted the user to not have to match port to city to perform all the queries on the database. This should make the end users experience more streamlined and simplifies the data model around a simple star schema."
   ]
  },
  {
   "cell_type": "code",
   "execution_count": 4,
   "metadata": {
    "editable": true
   },
   "outputs": [
    {
     "data": {
      "image/jpeg": "[encoded data removed]",
      "text/plain": [
       "<IPython.core.display.Image object>"
      ]
     },
     "execution_count": 4,
     "metadata": {},
     "output_type": "execute_result"
    }
   ],
   "source": [
    "from IPython.display import Image\n",
    "Image(filename='database design staging.jpg') "
   ]
  },
  {
   "cell_type": "code",
   "execution_count": 3,
   "metadata": {
    "editable": true
   },
   "outputs": [
    {
     "data": {
      "image/jpeg": "[encoded data removed]",
      "text/plain": [
       "<IPython.core.display.Image object>"
      ]
     },
     "execution_count": 3,
     "metadata": {},
     "output_type": "execute_result"
    }
   ],
   "source": [
    "from IPython.display import Image\n",
    "Image(filename='database design analysis.jpg') "
   ]
  },
  {
   "cell_type": "markdown",
   "metadata": {
    "editable": true
   },
   "source": [
    "#### 3.2 Mapping Out Data Pipelines\n",
    "List the steps necessary to pipeline the data into the chosen data model\n",
    "\n"
   ]
  },
  {
   "cell_type": "markdown",
   "metadata": {
    "editable": true
   },
   "source": [
    "### Step 4: Run Pipelines to Model the Data \n",
    "#### 4.1 Create the data model\n",
    "Build the data pipelines to create the data model.\n",
    "\n",
    "I built the data pipeline in create_tables.py, etl.py and sql_queries.py\n",
    "\n",
    "After the dwh.cfg file is populated with proper credential information the following two commands runs the etl process:"
   ]
  },
  {
   "cell_type": "code",
   "execution_count": 1,
   "metadata": {
    "editable": true
   },
   "outputs": [],
   "source": [
    "# Write code here\n",
    "\n",
    "!python3 create_tables.py"
   ]
  },
  {
   "cell_type": "code",
   "execution_count": 2,
   "metadata": {
    "editable": true
   },
   "outputs": [],
   "source": [
    "!python3 etl.py"
   ]
  },
  {
   "cell_type": "markdown",
   "metadata": {
    "editable": true
   },
   "source": [
    "#### 4.2 Data Quality Checks\n",
    "Explain the data quality checks you'll perform to ensure the pipeline ran as expected. These could include:\n",
    " * Integrity constraints on the relational database (e.g., unique key, data type, etc.)\n",
    " * Unit tests for the scripts to ensure they are doing the right thing\n",
    " * Source/Count checks to ensure completeness\n",
    " \n",
    "Run Quality Checks"
   ]
  },
  {
   "cell_type": "code",
   "execution_count": 27,
   "metadata": {
    "editable": true
   },
   "outputs": [],
   "source": [
    "port_count_source =immig_fact.select('port').groupby('port').count().toPandas()"
   ]
  },
  {
   "cell_type": "code",
   "execution_count": 4,
   "metadata": {
    "editable": true
   },
   "outputs": [],
   "source": [
    "# Perform quality checks here\n",
    "import psycopg2\n",
    "import configparser\n",
    "import pandas as pd\n",
    "config = configparser.ConfigParser()\n",
    "config.read('dwh.cfg')\n",
    "\n",
    "conn = psycopg2.connect(\"host={} dbname={} user={} password={} port={}\".format(*config['CLUSTER'].values()))\n",
    "cur = conn.cursor()\n",
    "query = 'select port_name, count(immig_fact.port_id) from immig_fact join port_dim on port_dim.port_id = immig_fact.port_id group by port_name'\n",
    "port_count_db = pd.read_sql_query(query, conn)"
   ]
  },
  {
   "cell_type": "markdown",
   "metadata": {
    "editable": true
   },
   "source": [
    "Checking for count consistency between source data and database. Achieved matching counts."
   ]
  },
  {
   "cell_type": "code",
   "execution_count": 31,
   "metadata": {
    "editable": true
   },
   "outputs": [
    {
     "data": {
      "text/html": [
       "<div>\n",
       "<style scoped>\n",
       "    .dataframe tbody tr th:only-of-type {\n",
       "        vertical-align: middle;\n",
       "    }\n",
       "\n",
       "    .dataframe tbody tr th {\n",
       "        vertical-align: top;\n",
       "    }\n",
       "\n",
       "    .dataframe thead th {\n",
       "        text-align: right;\n",
       "    }\n",
       "</style>\n",
       "<table border=\"1\" class=\"dataframe\">\n",
       "  <thead>\n",
       "    <tr style=\"text-align: right;\">\n",
       "      <th></th>\n",
       "      <th>port</th>\n",
       "      <th>count</th>\n",
       "    </tr>\n",
       "  </thead>\n",
       "  <tbody>\n",
       "    <tr>\n",
       "      <th>252</th>\n",
       "      <td>LOS</td>\n",
       "      <td>310163</td>\n",
       "    </tr>\n",
       "  </tbody>\n",
       "</table>\n",
       "</div>"
      ],
      "text/plain": [
       "    port   count\n",
       "252  LOS  310163"
      ]
     },
     "execution_count": 31,
     "metadata": {},
     "output_type": "execute_result"
    }
   ],
   "source": [
    "port_count_source[port_count_source.port =='LOS']"
   ]
  },
  {
   "cell_type": "code",
   "execution_count": 7,
   "metadata": {
    "editable": true
   },
   "outputs": [
    {
     "data": {
      "text/html": [
       "<div>\n",
       "<style scoped>\n",
       "    .dataframe tbody tr th:only-of-type {\n",
       "        vertical-align: middle;\n",
       "    }\n",
       "\n",
       "    .dataframe tbody tr th {\n",
       "        vertical-align: top;\n",
       "    }\n",
       "\n",
       "    .dataframe thead th {\n",
       "        text-align: right;\n",
       "    }\n",
       "</style>\n",
       "<table border=\"1\" class=\"dataframe\">\n",
       "  <thead>\n",
       "    <tr style=\"text-align: right;\">\n",
       "      <th></th>\n",
       "      <th>port_name</th>\n",
       "      <th>count</th>\n",
       "    </tr>\n",
       "  </thead>\n",
       "  <tbody>\n",
       "    <tr>\n",
       "      <th>8</th>\n",
       "      <td>LOS</td>\n",
       "      <td>310163</td>\n",
       "    </tr>\n",
       "  </tbody>\n",
       "</table>\n",
       "</div>"
      ],
      "text/plain": [
       "  port_name   count\n",
       "8       LOS  310163"
      ]
     },
     "execution_count": 7,
     "metadata": {},
     "output_type": "execute_result"
    }
   ],
   "source": [
    "port_count_db[port_count_db.port_name == 'LOS']"
   ]
  },
  {
   "cell_type": "code",
   "execution_count": 3,
   "metadata": {
    "editable": true
   },
   "outputs": [],
   "source": [
    "import psycopg2\n",
    "import configparser\n",
    "import pandas as pd\n",
    "config = configparser.ConfigParser()\n",
    "config.read('dwh.cfg')\n",
    "\n",
    "conn = psycopg2.connect(\"host={} dbname={} user={} password={} port={}\".format(*config['CLUSTER'].values()))\n",
    "cur = conn.cursor()\n",
    "query = 'select * from airport_dim limit 5'\n",
    "airport_output = pd.read_sql_query(query, conn)"
   ]
  },
  {
   "cell_type": "code",
   "execution_count": 4,
   "metadata": {
    "editable": true
   },
   "outputs": [
    {
     "data": {
      "text/html": [
       "<div>\n",
       "<style scoped>\n",
       "    .dataframe tbody tr th:only-of-type {\n",
       "        vertical-align: middle;\n",
       "    }\n",
       "\n",
       "    .dataframe tbody tr th {\n",
       "        vertical-align: top;\n",
       "    }\n",
       "\n",
       "    .dataframe thead th {\n",
       "        text-align: right;\n",
       "    }\n",
       "</style>\n",
       "<table border=\"1\" class=\"dataframe\">\n",
       "  <thead>\n",
       "    <tr style=\"text-align: right;\">\n",
       "      <th></th>\n",
       "      <th>type</th>\n",
       "      <th>name</th>\n",
       "      <th>elevation_ft</th>\n",
       "      <th>state_code</th>\n",
       "      <th>iso_country</th>\n",
       "      <th>city_id</th>\n",
       "      <th>port_id</th>\n",
       "      <th>longitude</th>\n",
       "      <th>latitude</th>\n",
       "    </tr>\n",
       "  </thead>\n",
       "  <tbody>\n",
       "    <tr>\n",
       "      <th>0</th>\n",
       "      <td>small_airport</td>\n",
       "      <td>Appalachian Regional Airport</td>\n",
       "      <td>1883</td>\n",
       "      <td>US</td>\n",
       "      <td>WV</td>\n",
       "      <td>12</td>\n",
       "      <td>None</td>\n",
       "      <td>-82.122100</td>\n",
       "      <td>37.681800</td>\n",
       "    </tr>\n",
       "    <tr>\n",
       "      <th>1</th>\n",
       "      <td>small_airport</td>\n",
       "      <td>Poverty Hollow Airport</td>\n",
       "      <td>330</td>\n",
       "      <td>US</td>\n",
       "      <td>OR</td>\n",
       "      <td>28</td>\n",
       "      <td>None</td>\n",
       "      <td>-123.390999</td>\n",
       "      <td>45.157101</td>\n",
       "    </tr>\n",
       "    <tr>\n",
       "      <th>2</th>\n",
       "      <td>small_airport</td>\n",
       "      <td>Minikey Airport</td>\n",
       "      <td>900</td>\n",
       "      <td>US</td>\n",
       "      <td>MI</td>\n",
       "      <td>28</td>\n",
       "      <td>None</td>\n",
       "      <td>-85.061699</td>\n",
       "      <td>43.161701</td>\n",
       "    </tr>\n",
       "    <tr>\n",
       "      <th>3</th>\n",
       "      <td>small_airport</td>\n",
       "      <td>Sheridan Airport</td>\n",
       "      <td>936</td>\n",
       "      <td>US</td>\n",
       "      <td>IN</td>\n",
       "      <td>28</td>\n",
       "      <td>None</td>\n",
       "      <td>-86.217300</td>\n",
       "      <td>40.177898</td>\n",
       "    </tr>\n",
       "    <tr>\n",
       "      <th>4</th>\n",
       "      <td>small_airport</td>\n",
       "      <td>Mach-O Acres Airport</td>\n",
       "      <td>435</td>\n",
       "      <td>US</td>\n",
       "      <td>OR</td>\n",
       "      <td>28</td>\n",
       "      <td>None</td>\n",
       "      <td>-123.370003</td>\n",
       "      <td>45.199001</td>\n",
       "    </tr>\n",
       "  </tbody>\n",
       "</table>\n",
       "</div>"
      ],
      "text/plain": [
       "            type                          name  elevation_ft state_code  \\\n",
       "0  small_airport  Appalachian Regional Airport          1883         US   \n",
       "1  small_airport        Poverty Hollow Airport           330         US   \n",
       "2  small_airport               Minikey Airport           900         US   \n",
       "3  small_airport              Sheridan Airport           936         US   \n",
       "4  small_airport          Mach-O Acres Airport           435         US   \n",
       "\n",
       "  iso_country  city_id port_id   longitude   latitude  \n",
       "0          WV       12    None  -82.122100  37.681800  \n",
       "1          OR       28    None -123.390999  45.157101  \n",
       "2          MI       28    None  -85.061699  43.161701  \n",
       "3          IN       28    None  -86.217300  40.177898  \n",
       "4          OR       28    None -123.370003  45.199001  "
      ]
     },
     "execution_count": 4,
     "metadata": {},
     "output_type": "execute_result"
    }
   ],
   "source": [
    "airport_output "
   ]
  },
  {
   "cell_type": "markdown",
   "metadata": {
    "editable": true
   },
   "source": [
    "#### 4.3 Data dictionary \n",
    "Create a data dictionary for your data model. For each field, provide a brief description of what the data is and where it came from. You can include the data dictionary in the notebook or in a separate file."
   ]
  },
  {
   "cell_type": "markdown",
   "metadata": {
    "editable": true
   },
   "source": [
    "#### demo_dim\n",
    "- city_id\n",
    " - type: int\n",
    " - source: city_dim table\n",
    " - description: unique identifier for city\n",
    "- state\n",
    " - type: varchar\n",
    " - source: State column matched from An OpenSoft provided dataset. This data comes from here: https://public.opendatasoft.com/explore/dataset/us-cities-demographics/export/. File name is 'us-cities-demographics.csv' \n",
    " - description: The two letter indicator for state\n",
    "- median_age\n",
    " - type: float\n",
    " - source: Median Age column matched from An OpenSoft provided dataset. This data comes from here: https://public.opendatasoft.com/explore/dataset/us-cities-demographics/export/. File name is 'us-cities-demographics.csv\n",
    " - description: The median age of city\n",
    "- male_population\n",
    " - type: int\n",
    " - source: Male Population column matched from An OpenSoft provided dataset. This data comes from here: https://public.opendatasoft.com/explore/dataset/us-cities-demographics/export/. File name is 'us-cities-demographics.csv\n",
    " - description: The number of men in the city\n",
    "- female_population\n",
    " - type: int\n",
    " - source: Female Population column matched from An OpenSoft provided dataset. This data comes from here: https://public.opendatasoft.com/explore/dataset/us-cities-demographics/export/. File name is 'us-cities-demographics.csv\n",
    " - description: The number of females in the city\n",
    "- total_population\n",
    " - type: int\n",
    " - source: Total Population column matched from An OpenSoft provided dataset. This data comes from here: https://public.opendatasoft.com/explore/dataset/us-cities-demographics/export/. File name is 'us-cities-demographics.csv\n",
    " - description: The total population of the city \n",
    "- number_of_veterans\n",
    " - type: int\n",
    " - source: Number of Veterans column matched from An OpenSoft provided dataset. This data comes from here: https://public.opendatasoft.com/explore/dataset/us-cities-demographics/export/. File name is 'us-cities-demographics.csv\n",
    " - description: The total number of veterans in the city\n",
    "- foreign_born\n",
    " - type: int\n",
    " - source: Foreign-born column matched from An OpenSoft provided dataset. This data comes from here: https://public.opendatasoft.com/explore/dataset/us-cities-demographics/export/. File name is 'us-cities-demographics.csv\n",
    " - description: number of foreign born living in the city\n",
    "- average_household_size\n",
    " - type: float\n",
    " - source: Average Household Size column matched from An OpenSoft provided dataset. This data comes from here: https://public.opendatasoft.com/explore/dataset/us-cities-demographics/export/. File name is 'us-cities-demographics.csv\n",
    " - description: The average household size in the city\n",
    "- state_code\n",
    " - type: varchar\n",
    " - source: State Code column matched from An OpenSoft provided dataset. This data comes from here: https://public.opendatasoft.com/explore/dataset/us-cities-demographics/export/. File name is 'us-cities-demographics.csv\n",
    " - description: The two letter indicator of the state i.e. CA\n",
    "- race\n",
    " - type: varchar\n",
    " - source: race column matched from An OpenSoft provided dataset. This data comes from here: https://public.opendatasoft.com/explore/dataset/us-cities-demographics/export/. File name is 'us-cities-demographics.csv\n",
    " - description: The race of the respondents from that city\n",
    "\n",
    "#### immig_fact\n",
    "- id\n",
    " - type: int\n",
    " - source: generated primary key\n",
    " - description: row indicator of the records\n",
    "- cicid\n",
    " - type: int\n",
    " - source: cicid column from the US National Tourisim and Trade Office. This dataset is from here: https://www.trade.gov/national-travel-and-tourism-office. \n",
    " - description: a unique identifier code from the source document\n",
    "- year\n",
    " - type: int\n",
    " - source: i94yr column from the US National Tourisim and Trade Office. This dataset is from here: https://www.trade.gov/national-travel-and-tourism-office.\n",
    " - description: year in 4 digit format YYYY\n",
    "- month\n",
    " - type: int\n",
    " - source: i94mon column from the US National Tourisim and Trade Office. This dataset is from here: https://www.trade.gov/national-travel-and-tourism-office.\n",
    " - description: month numeric value i.e. 1-12, where 12 is december\n",
    "- city_id\n",
    " - type: int\n",
    " - source: city_dim table id\n",
    " - description: unique city id\n",
    "- port_id\n",
    " - type: int\n",
    " - source: port_dim table id\n",
    " - description: unique port id\n",
    "- addr\n",
    " - type: varchar\n",
    " - source: i94addr column from the US National Tourisim and Trade Office. This dataset is from here: https://www.trade.gov/national-travel-and-tourism-office.\n",
    " - description: US state of arrival\n",
    "- arrival_date\n",
    " - type: int\n",
    " - source: arrdate column from the US National Tourisim and Trade Office. This dataset is from here: https://www.trade.gov/national-travel-and-tourism-office.\n",
    " - description: arrival date into the US\n",
    "- resp_age\n",
    " - type: int\n",
    " - source: i94bir column from the US National Tourisim and Trade Office. This dataset is from here: https://www.trade.gov/national-travel-and-tourism-office.\n",
    " - description: the age of the respondent in years\n",
    "- visa\n",
    " - type: int\n",
    " - source: i94visa column from the US National Tourisim and Trade Office. This dataset is from here: https://www.trade.gov/national-travel-and-tourism-office.\n",
    " - description: the visa code\n",
    "- mode\n",
    " - type: int\n",
    " - source: i94mode column from the US National Tourisim and Trade Office. This dataset is from here: https://www.trade.gov/national-travel-and-tourism-office.\n",
    " - description: How respondent entered the us. options: 1 for air, 2 for sea, 3 for land, and 9 is not reported in the data\n",
    "- airline\n",
    " - type: varchar\n",
    " - source: airline column from the US National Tourisim and Trade Office. This dataset is from here: https://www.trade.gov/national-travel-and-tourism-office.\n",
    " - description: The name of the airline respondent arrived on\n",
    "\n",
    "#### airport_dim\n",
    "- type\n",
    " - type: varchar\n",
    " - source: Type column in the airport dataset. This data comes from here: https://datahub.io/core/airport-codes#data\n",
    " - description: Indicating what type of airport it is e.g. small, medium, or large airport\n",
    "- name\n",
    " - type: varchar\n",
    " - source: name column in the airport dataset. This data comes from here: https://datahub.io/core/airport-codes#data\n",
    " - description: The full name of the airport\n",
    "- elevation_ft\n",
    " - type: int\n",
    " - source: elevation_ft from the airport dataset. This data comes from here: https://datahub.io/core/airport-codes#data\n",
    " - description: The airports elevation from sea level in feet\n",
    "- state_code\n",
    " - type: varchar\n",
    " - source: iso_region has state and country short forms. We extracted the state code from this column. This data comes from here: https://datahub.io/core/airport-codes#data\n",
    " - description: Two letter indicator of the state, e.g. CA \n",
    "- iso_country\n",
    " - type: varchar\n",
    " - source: iso_country column in the airport dataset . This data comes from here: https://datahub.io/core/airport-codes#data\n",
    " - description: This is the short form of the country of the airport i.e. US. Only US airports are included.\n",
    "- city_id\n",
    " - type: int\n",
    " - source: This comes from the city_dim table\n",
    " - description: unique id linked to the name of the city stored in the city_dim table\n",
    "- port_id\n",
    " - type: int\n",
    " - source: This comes from the port_dim table\n",
    " - description: unique id linked to the name of the port stored in the port_dim table\n",
    "- longitude\n",
    " - type: float\n",
    " - source: split from the coordinates column in the airport data. This data comes from here: https://datahub.io/core/airport-codes#data\n",
    " - description: The longitude coordinate of the airport \n",
    "- latitude\n",
    " - type: float\n",
    " - source: split from the coordinates column in the airport data. This data comes from here: https://datahub.io/core/airport-codes#data\n",
    " - description: The latitude coordinate of the airport \n",
    " \n",
    "#### temp_dim\n",
    "- city_id\n",
    " - type: int\n",
    " - source: data from the city_dim\n",
    " - description: unique id from the city_dim table\n",
    "- month\n",
    " - type: int\n",
    " - source: month column from the provided GlobalLandTemperaturesByCity.csv\n",
    " - description: The month number of the year e.g. january is 1 and december is 12\n",
    "- avg_temp\n",
    " - type: float\n",
    " - source: AverageTemperature column from the provided GlobalLandTemperaturesByCity.csv\n",
    " - description: The average temperature for that month\n",
    "- avg_temp_uncertainty\n",
    " - type: float\n",
    " - source: AverageTemperatureUncertainty column from the provided GlobalLandTemperaturesByCity.csv\n",
    " - description: The uncertainty range for the temperature\n",
    "\n",
    "#### city_dim\n",
    "- city_id\n",
    " - type: int\n",
    " - source: database generated\n",
    " - description: unique identifier generated by the database\n",
    "- city_name\n",
    " - type: varchar\n",
    " - source: This data is the unique cities extracted from the following sources: municipality from the airport dataset (https://datahub.io/core/airport-codes#data), City column from the demo dataset (https://public.opendatasoft.com/explore/dataset/us-cities-demographics/export/), City column from the temperature dataset (GlobalLandTemperaturesByCity.csv)\n",
    " - description: Names of cities\n",
    "\n",
    "#### port_dim\n",
    "- port_id\n",
    " - type: int\n",
    " - source: database generated\n",
    " - description: unique identifier generated by the database\n",
    "- port_name\n",
    " - type: varchar\n",
    " - source: This data is the unique ports extracted from the following sources:  port column from the immigration dataset (https://www.trade.gov/national-travel-and-tourism-office), local_code column from the airport dataset (https://datahub.io/core/airport-codes#data)\n",
    " - description: Names of ports\n",
    "\n"
   ]
  },
  {
   "cell_type": "markdown",
   "metadata": {
    "editable": true
   },
   "source": [
    "#### Step 5: Complete Project Write Up\n",
    "* Clearly state the rationale for the choice of tools and technologies for the project.\n",
    "* Propose how often the data should be updated and why.\n",
    "* Write a description of how you would approach the problem differently under the following scenarios:\n",
    " * The data was increased by 100x.\n",
    " * The data populates a dashboard that must be updated on a daily basis by 7am every day.\n",
    " * The database needed to be accessed by 100+ people."
   ]
  },
  {
   "cell_type": "markdown",
   "metadata": {
    "editable": true
   },
   "source": [
    "#### Step 5: Answers\n",
    "- <i>Clearly state the rationale for the choice of tools and technologies for the project.</i>\n",
    "    - I chose building a redshift cluster on AWS to build a data warehouse for the immigration dataset and corresponding datasets. I choose a reshift cluster because it is easy to scale up as needed. For development purposes I am just running 1 node, but will consider increasing nodes as there are more users.\n",
    "    - I used pandas for many data exploration and I used psycopg2 for ingesting and building tables in the database. \n",
    "- <i>Propose how often the data should be updated and why.</i>\n",
    "    - My assumption is the data could be updated monthly with a new monthly file for immigration data as it is released. I assume this would be the most logical update because that is likely the rate of which new data becomes available\n",
    "- <i>Write a description of how you would approach the problem differently under the following scenarios:</i>\n",
    "    - <i>The data was increased by 100x.</i>\n",
    "        - I would approach this problem differently by using a distributed system such as AWS EMR to handle the bigger data\n",
    "    - <i>The data populates a dashboard that must be updated on a daily basis by 7am every day.</i>\n",
    "        - I would used airflow to automate the process with dags that are scheduled before 7am every day. I would also likely produce simplified files from the database as part of the dag of just the data we want displayed on the dashboard, so that users are not experiencing slow query wait times on the dashboard.\n",
    "    - <i>The database needed to be accessed by 100+ people.</i>\n",
    "        - I would increase the number of compute nodes on redshift.  I would also consider choosing a more robust node type for the cluster.\n",
    " "
   ]
  }
 ],
 "metadata": {
  "kernelspec": {
   "display_name": "Python 3",
   "language": "python",
   "name": "python3"
  },
  "language_info": {
   "codemirror_mode": {
    "name": "ipython",
    "version": 3
   },
   "file_extension": ".py",
   "mimetype": "text/x-python",
   "name": "python",
   "nbconvert_exporter": "python",
   "pygments_lexer": "ipython3",
   "version": "3.6.3"
  }
 },
 "nbformat": 4,
 "nbformat_minor": 4
}
